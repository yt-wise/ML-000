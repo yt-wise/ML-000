{
 "cells": [
  {
   "cell_type": "markdown",
   "metadata": {},
   "source": [
    "# Load the Cython Execution Environment"
   ]
  },
  {
   "cell_type": "code",
   "execution_count": 1,
   "metadata": {
    "ExecuteTime": {
     "end_time": "2021-01-07T07:49:46.888945Z",
     "start_time": "2021-01-07T07:49:46.612520Z"
    }
   },
   "outputs": [],
   "source": [
    "%load_ext Cython"
   ]
  },
  {
   "cell_type": "markdown",
   "metadata": {},
   "source": [
    "# Function Definitions"
   ]
  },
  {
   "cell_type": "markdown",
   "metadata": {},
   "source": [
    "## python function -- V1"
   ]
  },
  {
   "cell_type": "code",
   "execution_count": 2,
   "metadata": {
    "ExecuteTime": {
     "end_time": "2021-01-07T07:49:48.411388Z",
     "start_time": "2021-01-07T07:49:48.315570Z"
    }
   },
   "outputs": [],
   "source": [
    "import numpy as np\n",
    "\n",
    "def target_mean_v1_p(data, y_name, x_name):\n",
    "    result = np.zeros(data.shape[0])\n",
    "    value_dict = dict()\n",
    "    count_dict = dict()\n",
    "    for i in range(data.shape[0]):\n",
    "        if data.loc[i, x_name] not in value_dict.keys():\n",
    "            value_dict[data.loc[i, x_name]] = data.loc[i, y_name]\n",
    "            count_dict[data.loc[i, x_name]] = 1\n",
    "        else:\n",
    "            value_dict[data.loc[i, x_name]] += data.loc[i, y_name]\n",
    "            count_dict[data.loc[i, x_name]] += 1\n",
    "    for i in range(data.shape[0]):\n",
    "        result[i] = (value_dict[data.loc[i, x_name]] - data.loc[i, y_name]) / (\n",
    "            count_dict[data.loc[i, x_name]] - 1)\n",
    "    return result"
   ]
  },
  {
   "cell_type": "markdown",
   "metadata": {},
   "source": [
    "## python function (optimized version) -- V2"
   ]
  },
  {
   "cell_type": "code",
   "execution_count": 3,
   "metadata": {
    "ExecuteTime": {
     "end_time": "2021-01-07T07:49:50.318960Z",
     "start_time": "2021-01-07T07:49:49.184012Z"
    }
   },
   "outputs": [],
   "source": [
    "import pandas as pd\n",
    "import numpy as np \n",
    "\n",
    "def target_mean_v2_p(data, y_name, x_name):\n",
    "    '''\n",
    "        分组聚合 --> 剔除自身计算\n",
    "    '''\n",
    "    data_groupby = data.groupby(x_name, as_index=False).agg([\"sum\", \"count\"])\n",
    "    data_groupby.columns = data_groupby.columns.droplevel(0)\n",
    "    data_groupby.reset_index(inplace=True)\n",
    "    sum_count_dict = {item_[0]: item_[1:] for item_ in data_groupby.values}\n",
    "    result = [(sum_count_dict[item_[1]][0] - item_[0]) /\n",
    "              (sum_count_dict[item_[1]][1] - 1) for item_ in data.values]\n",
    "    return result"
   ]
  },
  {
   "cell_type": "markdown",
   "metadata": {},
   "source": [
    "## cython function -- V3"
   ]
  },
  {
   "cell_type": "code",
   "execution_count": 4,
   "metadata": {
    "ExecuteTime": {
     "end_time": "2021-01-07T07:49:50.346886Z",
     "start_time": "2021-01-07T07:49:50.320955Z"
    }
   },
   "outputs": [],
   "source": [
    "%%cython\n",
    "import numpy as np\n",
    "cimport numpy as cnp\n",
    "import cython\n",
    "\n",
    "@cython.boundscheck(False)\n",
    "@cython.wraparound(False)\n",
    "cpdef cnp.ndarray[double] target_mean_v3_c(cnp.ndarray[long, ndim=2] data):\n",
    "    cdef long index_num = data.shape[0]\n",
    "    cdef dict sum_dict = {}\n",
    "    cdef dict count_dict = {}\n",
    "    cdef cnp.ndarray[double] result = np.zeros(index_num)\n",
    "    for i in range(index_num):\n",
    "        if data[i, 1] not in sum_dict.keys():\n",
    "            sum_dict[data[i, 1]] = data[i, 1]\n",
    "            count_dict[data[i, 1]] = 1\n",
    "        else:\n",
    "            sum_dict[data[i, 1]] += data[i, 0]\n",
    "            count_dict[data[i, 1]] += 1\n",
    "    for i in range(index_num):\n",
    "        result[i] = (sum_dict[data[i, 1]]-data[i, 0])/(count_dict[data[i, 1]]-1)\n",
    "    return result"
   ]
  },
  {
   "cell_type": "markdown",
   "metadata": {},
   "source": [
    "## cython function (optimized version) -- V4"
   ]
  },
  {
   "cell_type": "code",
   "execution_count": 12,
   "metadata": {
    "ExecuteTime": {
     "end_time": "2021-01-07T07:51:32.789025Z",
     "start_time": "2021-01-07T07:51:29.899589Z"
    }
   },
   "outputs": [],
   "source": [
    "%%cython\n",
    "import numpy as np\n",
    "cimport numpy as cnp\n",
    "import cython\n",
    "\n",
    "@cython.boundscheck(False)\n",
    "@cython.wraparound(False)\n",
    "cpdef cnp.ndarray[double] target_mean_v4_c(cnp.ndarray[long, ndim=2, mode=\"c\"] data):\n",
    "    cdef long index_num = data.shape[0]\n",
    "    cdef cnp.ndarray[double] sum_dict = np.zeros(index_num)\n",
    "    cdef cnp.ndarray[double] count_dict = np.zeros(index_num)\n",
    "    cdef cnp.ndarray[double] result = np.zeros(index_num)\n",
    "    for i in range(index_num):\n",
    "        sum_dict[data[i, 1]] += data[i, 0]\n",
    "        count_dict[data[i, 1]] += 1\n",
    "    for i in range(index_num):\n",
    "        result[i] = (sum_dict[data[i, 1]]-data[i, 0])/(count_dict[data[i, 1]]-1)\n",
    "    return result"
   ]
  },
  {
   "cell_type": "markdown",
   "metadata": {},
   "source": [
    "# Testing"
   ]
  },
  {
   "cell_type": "code",
   "execution_count": 6,
   "metadata": {
    "ExecuteTime": {
     "end_time": "2021-01-07T07:49:51.522813Z",
     "start_time": "2021-01-07T07:49:51.512726Z"
    }
   },
   "outputs": [],
   "source": [
    "import pandas as pd\n",
    "import numpy as np \n",
    "\n",
    "np.random.seed(123)\n",
    "y = np.random.randint(2, size=(5000, 1))\n",
    "x = np.random.randint(10, size=(5000, 1))\n",
    "data = pd.DataFrame(np.concatenate([y, x], axis=1), columns=['y', 'x'])"
   ]
  },
  {
   "cell_type": "code",
   "execution_count": 7,
   "metadata": {
    "ExecuteTime": {
     "end_time": "2021-01-07T07:49:54.048267Z",
     "start_time": "2021-01-07T07:49:51.937873Z"
    }
   },
   "outputs": [
    {
     "name": "stdout",
     "output_type": "stream",
     "text": [
      "263 ms ± 40.5 ms per loop (mean ± std. dev. of 7 runs, 1 loop each)\n"
     ]
    }
   ],
   "source": [
    "%%timeit\n",
    "target_mean_v1_p(data, \"y\", \"x\")"
   ]
  },
  {
   "cell_type": "code",
   "execution_count": 8,
   "metadata": {
    "ExecuteTime": {
     "end_time": "2021-01-07T07:50:03.879954Z",
     "start_time": "2021-01-07T07:49:54.050271Z"
    }
   },
   "outputs": [
    {
     "name": "stdout",
     "output_type": "stream",
     "text": [
      "12 ms ± 877 µs per loop (mean ± std. dev. of 7 runs, 100 loops each)\n"
     ]
    }
   ],
   "source": [
    "%%timeit\n",
    "target_mean_v2_p(data, \"y\", \"x\")"
   ]
  },
  {
   "cell_type": "code",
   "execution_count": 9,
   "metadata": {
    "ExecuteTime": {
     "end_time": "2021-01-07T07:50:11.753645Z",
     "start_time": "2021-01-07T07:50:03.881991Z"
    }
   },
   "outputs": [
    {
     "name": "stdout",
     "output_type": "stream",
     "text": [
      "972 µs ± 54.5 µs per loop (mean ± std. dev. of 7 runs, 1000 loops each)\n"
     ]
    }
   ],
   "source": [
    "%%timeit\n",
    "target_mean_v3_c(data.values)"
   ]
  },
  {
   "cell_type": "code",
   "execution_count": 13,
   "metadata": {
    "ExecuteTime": {
     "end_time": "2021-01-07T07:51:39.044190Z",
     "start_time": "2021-01-07T07:51:36.276684Z"
    }
   },
   "outputs": [
    {
     "name": "stdout",
     "output_type": "stream",
     "text": [
      "34 µs ± 891 ns per loop (mean ± std. dev. of 7 runs, 10000 loops each)\n"
     ]
    }
   ],
   "source": [
    "%%timeit\n",
    "target_mean_v4_c(data.values)"
   ]
  },
  {
   "cell_type": "code",
   "execution_count": null,
   "metadata": {},
   "outputs": [],
   "source": []
  },
  {
   "cell_type": "code",
   "execution_count": null,
   "metadata": {},
   "outputs": [],
   "source": []
  }
 ],
 "metadata": {
  "kernelspec": {
   "display_name": "Python 3",
   "language": "python",
   "name": "python3"
  },
  "language_info": {
   "codemirror_mode": {
    "name": "ipython",
    "version": 3
   },
   "file_extension": ".py",
   "mimetype": "text/x-python",
   "name": "python",
   "nbconvert_exporter": "python",
   "pygments_lexer": "ipython3",
   "version": "3.7.6"
  },
  "toc": {
   "base_numbering": 1,
   "nav_menu": {},
   "number_sections": true,
   "sideBar": true,
   "skip_h1_title": false,
   "title_cell": "Table of Contents",
   "title_sidebar": "Contents",
   "toc_cell": false,
   "toc_position": {},
   "toc_section_display": true,
   "toc_window_display": false
  }
 },
 "nbformat": 4,
 "nbformat_minor": 4
}
